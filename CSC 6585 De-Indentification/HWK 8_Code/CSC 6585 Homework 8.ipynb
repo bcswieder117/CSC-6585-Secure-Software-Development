{
 "cells": [
  {
   "cell_type": "markdown",
   "metadata": {},
   "source": [
    "# CSC 6585 Homework 8\n",
    "\n",
    "This notebook will be used to complete homework 8. "
   ]
  },
  {
   "cell_type": "markdown",
   "metadata": {},
   "source": [
    "## Homework 8 Data\n",
    "\n",
    "The below code is from the dataset given. "
   ]
  },
  {
   "cell_type": "code",
   "execution_count": 3,
   "metadata": {},
   "outputs": [],
   "source": [
    "# This code is from hw8data.py \n",
    "\n",
    "from typing import List\n",
    "\n",
    "# Dataset; sensitive column is the last column.\n",
    "DATASET: List[List[str]] = [\n",
    "    # name, age, sex, city, state, country, icd10\n",
    "    [\"Kim Deal\", 63, \"female\", \"Dayton\", \"Ohio\", \"USA\", \"J64\"],\n",
    "    [\"Gaye Advert\", 68, \"female\", \"Bideford\", \"Devon\", \"UK\", \"J60\"],\n",
    "    [\"Cait O’Riordan\", 59, \"female\", \"Lagos City\", \"Lagos\", \"Nigeria\", \"J62\"],\n",
    "    [\"Michele Temple\", 65, \"female\", \"Van Wert\", \"Ohio\", \"USA\", \"J63\"],\n",
    "    [\"Sara Lee\", 69, \"female\", \"\", \"West Midlands\", \"UK\", \"J62\"],\n",
    "    [\"Gail Greenwood\", 64, \"female\", \"Providence\", \"Rhode Island\", \"USA\", \"J61\"],\n",
    "    [\"Enid Williams\", 64, \"female\", \"City of London\", \"London\", \"UK\", \"J67\"],\n",
    "    [\"Abby Travis\", 54, \"female\", \"Los Angeles\", \"California\", \"USA\", \"J70\"],\n",
    "    [\"Juliana Hatfield\", 57, \"female\", \"Wiscasset\", \"Maine\", \"USA\", \"J68\"],\n",
    "    [\"Carol Kaye\", 89, \"female\", \"Everett\", \"Washington\", \"USA\", \"J62\"],\n",
    "    [\"William Earl Collins\", 72, \"male\", \"Cincinnatti\", \"Ohio\", \"USA\", \"J62\"],\n",
    "    [\"Larry Graham\", 78, \"male\", \"Beaumont\", \"Texas\", \"USA\", \"J63\"],\n",
    "    [\"Jaco Pastorius\", 72, \"male\", \"Norristown\", \"Pennsylvania\", \"USA\", \"J62\"],\n",
    "    [\"Ronald Carter\", 87, \"male\", \"Ferndale\", \"Michigan\", \"USA\", \"J67\"],\n",
    "    [\"Philip Lesh\", 84, \"male\", \"Berkeley\", \"California\", \"USA\", \"J62\"],\n",
    "    [\"Stanley Clarke\", 73, \"male\", \"Philadelphia\", \"Pennsylvania\", \"USA\", \"J62\"],\n",
    "    [\"John Paul Jones\", 78, \"male\", \"Sidcup\", \"Kent\", \"UK\", \"J63\"],\n",
    "    [\"Verdine White\", 73, \"male\", \"Chicago\", \"Illinois\", \"USA\", \"J62\"],\n",
    "    [\"Geezer Butler\", 75, \"male\", \"Birmingham\", \"West Midlands\", \"UK\", \"J62\"],\n",
    "    [\"Michael Peter Balzary\", 62, \"male\", \"Melbourne\", \"Victoria\", \"Australia\", \"J62\"],\n",
    "]"
   ]
  },
  {
   "cell_type": "markdown",
   "metadata": {},
   "source": [
    "We use the above code in the solution below. "
   ]
  },
  {
   "cell_type": "markdown",
   "metadata": {},
   "source": [
    "## My Solution to Homework 8 \n",
    "### Code"
   ]
  },
  {
   "cell_type": "code",
   "execution_count": 4,
   "metadata": {},
   "outputs": [
    {
     "name": "stdout",
     "output_type": "stream",
     "text": [
      "Group sizes:\n",
      " age_range  sex   \n",
      "54-65      female    7\n",
      "62-75      male      6\n",
      "66-89      female    3\n",
      "76-89      male      4\n",
      "dtype: int64\n",
      "\n",
      "Anonymized Dataset:\n",
      "    age_range     sex icd10\n",
      "0      54-65  female   J64\n",
      "1      66-89  female   J60\n",
      "2      54-65  female   J62\n",
      "3      54-65  female   J63\n",
      "4      66-89  female   J62\n",
      "5      54-65  female   J61\n",
      "6      54-65  female   J67\n",
      "7      54-65  female   J70\n",
      "8      54-65  female   J68\n",
      "9      66-89  female   J62\n",
      "10     62-75    male   J62\n",
      "11     76-89    male   J63\n",
      "12     62-75    male   J62\n",
      "13     76-89    male   J67\n",
      "14     76-89    male   J62\n",
      "15     62-75    male   J62\n",
      "16     76-89    male   J62\n",
      "17     62-75    male   J62\n",
      "18     62-75    male   J62\n",
      "19     62-75    male   J62\n"
     ]
    }
   ],
   "source": [
    "import pandas as pd\n",
    "\n",
    "# Original dataset\n",
    "data = [\n",
    "    # name, age, sex, city, state, country, icd10\n",
    "    [\"Kim Deal\", 63, \"female\", \"Dayton\", \"Ohio\", \"USA\", \"J64\"],\n",
    "    [\"Gaye Advert\", 68, \"female\", \"Bideford\", \"Devon\", \"UK\", \"J60\"],\n",
    "    [\"Cait O’Riordan\", 59, \"female\", \"Lagos City\", \"Lagos\", \"Nigeria\", \"J62\"],\n",
    "    [\"Michele Temple\", 65, \"female\", \"Van Wert\", \"Ohio\", \"USA\", \"J63\"],\n",
    "    [\"Sara Lee\", 69, \"female\", \"\", \"West Midlands\", \"UK\", \"J62\"],\n",
    "    [\"Gail Greenwood\", 64, \"female\", \"Providence\", \"Rhode Island\", \"USA\", \"J61\"],\n",
    "    [\"Enid Williams\", 64, \"female\", \"City of London\", \"London\", \"UK\", \"J67\"],\n",
    "    [\"Abby Travis\", 54, \"female\", \"Los Angeles\", \"California\", \"USA\", \"J70\"],\n",
    "    [\"Juliana Hatfield\", 57, \"female\", \"Wiscasset\", \"Maine\", \"USA\", \"J68\"],\n",
    "    [\"Carol Kaye\", 89, \"female\", \"Everett\", \"Washington\", \"USA\", \"J62\"],\n",
    "    [\"William Earl Collins\", 72, \"male\", \"Cincinnati\", \"Ohio\", \"USA\", \"J62\"],\n",
    "    [\"Larry Graham\", 78, \"male\", \"Beaumont\", \"Texas\", \"USA\", \"J63\"],\n",
    "    [\"Jaco Pastorius\", 72, \"male\", \"Norristown\", \"Pennsylvania\", \"USA\", \"J62\"],\n",
    "    [\"Ronald Carter\", 87, \"male\", \"Ferndale\", \"Michigan\", \"USA\", \"J67\"],\n",
    "    [\"Philip Lesh\", 84, \"male\", \"Berkeley\", \"California\", \"USA\", \"J62\"],\n",
    "    [\"Stanley Clarke\", 73, \"male\", \"Philadelphia\", \"Pennsylvania\", \"USA\", \"J62\"],\n",
    "    [\"John Paul Jones\", 78, \"male\", \"Sidcup\", \"Kent\", \"UK\", \"J62\"],\n",
    "    [\"Verdine White\", 73, \"male\", \"Chicago\", \"Illinois\", \"USA\", \"J62\"],\n",
    "    [\"Geezer Butler\", 75, \"male\", \"Birmingham\", \"West Midlands\", \"UK\", \"J62\"],\n",
    "    [\"Michael Peter Balzary\", 62, \"male\", \"Melbourne\", \"Victoria\", \"Australia\", \"J62\"],\n",
    "]\n",
    "\n",
    "# Column names\n",
    "columns = ['name', 'age', 'sex', 'city', 'state', 'country', 'icd10']\n",
    "\n",
    "# Create DataFrame\n",
    "df = pd.DataFrame(data, columns=columns)\n",
    "\n",
    "# Remove direct identifier 'name'\n",
    "df = df.drop('name', axis = 1)\n",
    "\n",
    "# Define age ranges based on sex\n",
    "def generalize_age(row):\n",
    "    age = row['age']\n",
    "    sex = row['sex']\n",
    "    if sex == 'female':\n",
    "        if 54 <= age <= 65:\n",
    "            return '54-65'\n",
    "        else:\n",
    "            return '66-89'\n",
    "    else:  # male\n",
    "        if 62 <= age <= 75:\n",
    "            return '62-75'\n",
    "        else:\n",
    "            return '76-89'\n",
    "\n",
    "df['age_range'] = df.apply(generalize_age, axis = 1)\n",
    "\n",
    "# Remove quasi-identifiers\n",
    "df = df.drop(['age', 'city', 'state', 'country'], axis=1)\n",
    "\n",
    "# Reorder columns\n",
    "df = df[['age_range', 'sex', 'icd10']]\n",
    "\n",
    "# Verify group sizes for k-anonymity (k=3)\n",
    "group_sizes = df.groupby(['age_range', 'sex']).size()\n",
    "print(\"Group sizes:\\n\", group_sizes)\n",
    "\n",
    "# Output the anonymized dataset\n",
    "print(\"\\nAnonymized Dataset:\\n\", df)\n"
   ]
  },
  {
   "cell_type": "markdown",
   "metadata": {},
   "source": [
    "### Additional Remarks\n",
    "\n",
    "So here is what I did in my Anomymization Approach: \n",
    "- I removed the direct identifier which entailed removing the name column. \n",
    "- I also used age generalization where the age attribute was generalized into 'age_range' with carefully defined ranges to ensure that each group meets the desired 3-anonymity. \n",
    "- I used a quasi-identifier retention so that the sex attribute is retained to preserve data utility. \n",
    "- Moreover, no supression is need since all records were included in the anonymized dataset. \n",
    "\n",
    "Overall, I believe that this answers the question. "
   ]
  }
 ],
 "metadata": {
  "kernelspec": {
   "display_name": "mynotebook_env",
   "language": "python",
   "name": "python3"
  },
  "language_info": {
   "codemirror_mode": {
    "name": "ipython",
    "version": 3
   },
   "file_extension": ".py",
   "mimetype": "text/x-python",
   "name": "python",
   "nbconvert_exporter": "python",
   "pygments_lexer": "ipython3",
   "version": "3.11.4"
  }
 },
 "nbformat": 4,
 "nbformat_minor": 2
}
